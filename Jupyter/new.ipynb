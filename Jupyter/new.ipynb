{
 "cells": [
  {
   "cell_type": "code",
   "execution_count": 3,
   "metadata": {},
   "outputs": [],
   "source": [
    "import pandas as pd\n",
    "import numpy as np\n",
    "import seaborn as sns\n",
    "from matplotlib import pyplot as plt \n",
    "import matplotlib\n",
    "%matplotlib inline"
   ]
  },
  {
   "cell_type": "code",
   "execution_count": 2,
   "metadata": {
    "scrolled": true
   },
   "outputs": [
    {
     "data": {
      "text/html": [
       "<div>\n",
       "<style scoped>\n",
       "    .dataframe tbody tr th:only-of-type {\n",
       "        vertical-align: middle;\n",
       "    }\n",
       "\n",
       "    .dataframe tbody tr th {\n",
       "        vertical-align: top;\n",
       "    }\n",
       "\n",
       "    .dataframe thead th {\n",
       "        text-align: right;\n",
       "    }\n",
       "</style>\n",
       "<table border=\"1\" class=\"dataframe\">\n",
       "  <thead>\n",
       "    <tr style=\"text-align: right;\">\n",
       "      <th></th>\n",
       "      <th>Loan_ID</th>\n",
       "      <th>Gender</th>\n",
       "      <th>Married</th>\n",
       "      <th>Dependents</th>\n",
       "      <th>Education</th>\n",
       "      <th>Self_Employed</th>\n",
       "      <th>ApplicantIncome</th>\n",
       "      <th>CoapplicantIncome</th>\n",
       "      <th>LoanAmount</th>\n",
       "      <th>Loan_Amount_Term</th>\n",
       "      <th>Credit_History</th>\n",
       "      <th>Property_Area</th>\n",
       "      <th>Loan_Status</th>\n",
       "    </tr>\n",
       "  </thead>\n",
       "  <tbody>\n",
       "    <tr>\n",
       "      <th>0</th>\n",
       "      <td>LP001002</td>\n",
       "      <td>Male</td>\n",
       "      <td>No</td>\n",
       "      <td>0</td>\n",
       "      <td>Graduate</td>\n",
       "      <td>No</td>\n",
       "      <td>5849</td>\n",
       "      <td>0.0</td>\n",
       "      <td>NaN</td>\n",
       "      <td>360.0</td>\n",
       "      <td>1.0</td>\n",
       "      <td>Urban</td>\n",
       "      <td>Y</td>\n",
       "    </tr>\n",
       "    <tr>\n",
       "      <th>1</th>\n",
       "      <td>LP001003</td>\n",
       "      <td>Male</td>\n",
       "      <td>Yes</td>\n",
       "      <td>1</td>\n",
       "      <td>Graduate</td>\n",
       "      <td>No</td>\n",
       "      <td>4583</td>\n",
       "      <td>1508.0</td>\n",
       "      <td>128.0</td>\n",
       "      <td>360.0</td>\n",
       "      <td>1.0</td>\n",
       "      <td>Rural</td>\n",
       "      <td>N</td>\n",
       "    </tr>\n",
       "    <tr>\n",
       "      <th>2</th>\n",
       "      <td>LP001005</td>\n",
       "      <td>Male</td>\n",
       "      <td>Yes</td>\n",
       "      <td>0</td>\n",
       "      <td>Graduate</td>\n",
       "      <td>Yes</td>\n",
       "      <td>3000</td>\n",
       "      <td>0.0</td>\n",
       "      <td>66.0</td>\n",
       "      <td>360.0</td>\n",
       "      <td>1.0</td>\n",
       "      <td>Urban</td>\n",
       "      <td>Y</td>\n",
       "    </tr>\n",
       "    <tr>\n",
       "      <th>3</th>\n",
       "      <td>LP001006</td>\n",
       "      <td>Male</td>\n",
       "      <td>Yes</td>\n",
       "      <td>0</td>\n",
       "      <td>Not Graduate</td>\n",
       "      <td>No</td>\n",
       "      <td>2583</td>\n",
       "      <td>2358.0</td>\n",
       "      <td>120.0</td>\n",
       "      <td>360.0</td>\n",
       "      <td>1.0</td>\n",
       "      <td>Urban</td>\n",
       "      <td>Y</td>\n",
       "    </tr>\n",
       "    <tr>\n",
       "      <th>4</th>\n",
       "      <td>LP001008</td>\n",
       "      <td>Male</td>\n",
       "      <td>No</td>\n",
       "      <td>0</td>\n",
       "      <td>Graduate</td>\n",
       "      <td>No</td>\n",
       "      <td>6000</td>\n",
       "      <td>0.0</td>\n",
       "      <td>141.0</td>\n",
       "      <td>360.0</td>\n",
       "      <td>1.0</td>\n",
       "      <td>Urban</td>\n",
       "      <td>Y</td>\n",
       "    </tr>\n",
       "  </tbody>\n",
       "</table>\n",
       "</div>"
      ],
      "text/plain": [
       "    Loan_ID Gender Married Dependents     Education Self_Employed  \\\n",
       "0  LP001002   Male      No          0      Graduate            No   \n",
       "1  LP001003   Male     Yes          1      Graduate            No   \n",
       "2  LP001005   Male     Yes          0      Graduate           Yes   \n",
       "3  LP001006   Male     Yes          0  Not Graduate            No   \n",
       "4  LP001008   Male      No          0      Graduate            No   \n",
       "\n",
       "   ApplicantIncome  CoapplicantIncome  LoanAmount  Loan_Amount_Term  \\\n",
       "0             5849                0.0         NaN             360.0   \n",
       "1             4583             1508.0       128.0             360.0   \n",
       "2             3000                0.0        66.0             360.0   \n",
       "3             2583             2358.0       120.0             360.0   \n",
       "4             6000                0.0       141.0             360.0   \n",
       "\n",
       "   Credit_History Property_Area Loan_Status  \n",
       "0             1.0         Urban           Y  \n",
       "1             1.0         Rural           N  \n",
       "2             1.0         Urban           Y  \n",
       "3             1.0         Urban           Y  \n",
       "4             1.0         Urban           Y  "
      ]
     },
     "execution_count": 2,
     "metadata": {},
     "output_type": "execute_result"
    }
   ],
   "source": [
    "df = pd.read_csv(\"train.csv\")\n",
    "df.head()"
   ]
  },
  {
   "cell_type": "code",
   "execution_count": 3,
   "metadata": {},
   "outputs": [
    {
     "data": {
      "text/plain": [
       "Loan_ID              0\n",
       "Gender               0\n",
       "Married              0\n",
       "Dependents           0\n",
       "Education            0\n",
       "Self_Employed        0\n",
       "ApplicantIncome      0\n",
       "CoapplicantIncome    0\n",
       "LoanAmount           0\n",
       "Loan_Amount_Term     0\n",
       "Credit_History       0\n",
       "Property_Area        0\n",
       "Loan_Status          0\n",
       "dtype: int64"
      ]
     },
     "execution_count": 3,
     "metadata": {},
     "output_type": "execute_result"
    }
   ],
   "source": [
    "df['LoanAmount'] = df['LoanAmount'].fillna(df['LoanAmount'].mean())\n",
    "df['Loan_Amount_Term'] = df['Loan_Amount_Term'].fillna(df['Loan_Amount_Term'].mean())\n",
    "df['Credit_History'] = df['Credit_History'].fillna(df['Credit_History'].mean())\n",
    "df['Gender'] = df[\"Gender\"].fillna(df['Gender'].mode()[0])\n",
    "df['Married'] = df[\"Married\"].fillna(df['Married'].mode()[0])\n",
    "df['Dependents'] = df[\"Dependents\"].fillna(df['Dependents'].mode()[0])\n",
    "df['Self_Employed'] = df[\"Self_Employed\"].fillna(df['Self_Employed'].mode()[0])\n",
    "df.isnull().sum()"
   ]
  },
  {
   "cell_type": "code",
   "execution_count": 4,
   "metadata": {},
   "outputs": [],
   "source": [
    "df['Total_Income'] = df['ApplicantIncome'] + df['CoapplicantIncome']\n",
    "df['Total_Income_Log'] = np.log(df['Total_Income'])\n",
    "df['LoanAmountLog'] = np.log(df['LoanAmount'])"
   ]
  },
  {
   "cell_type": "code",
   "execution_count": 5,
   "metadata": {},
   "outputs": [],
   "source": [
    "from sklearn.preprocessing import LabelEncoder\n",
    "cols = ['Gender',\"Married\",\"Education\",'Self_Employed',\"Property_Area\",\"Loan_Status\",\"Dependents\"]\n",
    "le = LabelEncoder()\n",
    "for col in cols:\n",
    "    df[col] = le.fit_transform(df[col])"
   ]
  },
  {
   "cell_type": "code",
   "execution_count": 6,
   "metadata": {},
   "outputs": [
    {
     "data": {
      "text/html": [
       "<div>\n",
       "<style scoped>\n",
       "    .dataframe tbody tr th:only-of-type {\n",
       "        vertical-align: middle;\n",
       "    }\n",
       "\n",
       "    .dataframe tbody tr th {\n",
       "        vertical-align: top;\n",
       "    }\n",
       "\n",
       "    .dataframe thead th {\n",
       "        text-align: right;\n",
       "    }\n",
       "</style>\n",
       "<table border=\"1\" class=\"dataframe\">\n",
       "  <thead>\n",
       "    <tr style=\"text-align: right;\">\n",
       "      <th></th>\n",
       "      <th>Gender</th>\n",
       "      <th>Married</th>\n",
       "      <th>Dependents</th>\n",
       "      <th>Education</th>\n",
       "      <th>Self_Employed</th>\n",
       "      <th>Loan_Amount_Term</th>\n",
       "      <th>Credit_History</th>\n",
       "      <th>Property_Area</th>\n",
       "      <th>Loan_Status</th>\n",
       "      <th>Total_Income_Log</th>\n",
       "      <th>LoanAmountLog</th>\n",
       "    </tr>\n",
       "  </thead>\n",
       "  <tbody>\n",
       "    <tr>\n",
       "      <th>0</th>\n",
       "      <td>1</td>\n",
       "      <td>0</td>\n",
       "      <td>0</td>\n",
       "      <td>0</td>\n",
       "      <td>0</td>\n",
       "      <td>360.0</td>\n",
       "      <td>1.0</td>\n",
       "      <td>2</td>\n",
       "      <td>1</td>\n",
       "      <td>8.674026</td>\n",
       "      <td>4.986426</td>\n",
       "    </tr>\n",
       "    <tr>\n",
       "      <th>1</th>\n",
       "      <td>1</td>\n",
       "      <td>1</td>\n",
       "      <td>1</td>\n",
       "      <td>0</td>\n",
       "      <td>0</td>\n",
       "      <td>360.0</td>\n",
       "      <td>1.0</td>\n",
       "      <td>0</td>\n",
       "      <td>0</td>\n",
       "      <td>8.714568</td>\n",
       "      <td>4.852030</td>\n",
       "    </tr>\n",
       "    <tr>\n",
       "      <th>2</th>\n",
       "      <td>1</td>\n",
       "      <td>1</td>\n",
       "      <td>0</td>\n",
       "      <td>0</td>\n",
       "      <td>1</td>\n",
       "      <td>360.0</td>\n",
       "      <td>1.0</td>\n",
       "      <td>2</td>\n",
       "      <td>1</td>\n",
       "      <td>8.006368</td>\n",
       "      <td>4.189655</td>\n",
       "    </tr>\n",
       "    <tr>\n",
       "      <th>3</th>\n",
       "      <td>1</td>\n",
       "      <td>1</td>\n",
       "      <td>0</td>\n",
       "      <td>1</td>\n",
       "      <td>0</td>\n",
       "      <td>360.0</td>\n",
       "      <td>1.0</td>\n",
       "      <td>2</td>\n",
       "      <td>1</td>\n",
       "      <td>8.505323</td>\n",
       "      <td>4.787492</td>\n",
       "    </tr>\n",
       "    <tr>\n",
       "      <th>4</th>\n",
       "      <td>1</td>\n",
       "      <td>0</td>\n",
       "      <td>0</td>\n",
       "      <td>0</td>\n",
       "      <td>0</td>\n",
       "      <td>360.0</td>\n",
       "      <td>1.0</td>\n",
       "      <td>2</td>\n",
       "      <td>1</td>\n",
       "      <td>8.699515</td>\n",
       "      <td>4.948760</td>\n",
       "    </tr>\n",
       "  </tbody>\n",
       "</table>\n",
       "</div>"
      ],
      "text/plain": [
       "   Gender  Married  Dependents  Education  Self_Employed  Loan_Amount_Term  \\\n",
       "0       1        0           0          0              0             360.0   \n",
       "1       1        1           1          0              0             360.0   \n",
       "2       1        1           0          0              1             360.0   \n",
       "3       1        1           0          1              0             360.0   \n",
       "4       1        0           0          0              0             360.0   \n",
       "\n",
       "   Credit_History  Property_Area  Loan_Status  Total_Income_Log  LoanAmountLog  \n",
       "0             1.0              2            1          8.674026       4.986426  \n",
       "1             1.0              0            0          8.714568       4.852030  \n",
       "2             1.0              2            1          8.006368       4.189655  \n",
       "3             1.0              2            1          8.505323       4.787492  \n",
       "4             1.0              2            1          8.699515       4.948760  "
      ]
     },
     "execution_count": 6,
     "metadata": {},
     "output_type": "execute_result"
    }
   ],
   "source": [
    "cols=['Loan_ID','ApplicantIncome','CoapplicantIncome','LoanAmount','Total_Income']\n",
    "df = df.drop(columns=cols , axis =1)\n",
    "x = df.drop(columns=['Loan_Status'], axis=1)\n",
    "y = df['Loan_Status']\n",
    "df.head()"
   ]
  },
  {
   "cell_type": "code",
   "execution_count": 7,
   "metadata": {},
   "outputs": [],
   "source": [
    "from sklearn.model_selection import train_test_split\n",
    "X_train , X_test , y_train , y_test = train_test_split(x, y , test_size = 0.1 , random_state = 0)"
   ]
  },
  {
   "cell_type": "code",
   "execution_count": 8,
   "metadata": {},
   "outputs": [],
   "source": [
    "from sklearn.preprocessing import StandardScaler\n",
    "ss = StandardScaler()\n",
    "X_train = ss.fit_transform(X_train)\n",
    "X_test = ss.fit_transform(X_test)\n",
    "names = []\n",
    "scores = []"
   ]
  },
  {
   "cell_type": "code",
   "execution_count": 9,
   "metadata": {},
   "outputs": [
    {
     "name": "stdout",
     "output_type": "stream",
     "text": [
      "The accuracy of Random Forest is :  79.03225806451613 %\n"
     ]
    }
   ],
   "source": [
    "from sklearn.ensemble import RandomForestClassifier\n",
    "RF = RandomForestClassifier(random_state = 0)\n",
    "RF.fit(X_train, y_train)\n",
    "y_pred = RF.predict(X_test)\n",
    "from sklearn import metrics\n",
    "print(\"The accuracy of Random Forest is : \" ,metrics.accuracy_score(y_pred , y_test)*100,'%')\n",
    "names.append('RandomForestClassifier')\n",
    "scores.append(metrics.accuracy_score(y_pred , y_test)*100)"
   ]
  },
  {
   "cell_type": "code",
   "execution_count": 10,
   "metadata": {},
   "outputs": [
    {
     "name": "stdout",
     "output_type": "stream",
     "text": [
      "The accuracy of Naive Bayes is :  85.48387096774194 %\n"
     ]
    }
   ],
   "source": [
    "from sklearn.naive_bayes import GaussianNB\n",
    "NB = GaussianNB()\n",
    "NB.fit(X_train , y_train)\n",
    "y_pred = NB.predict(X_test)\n",
    "from sklearn import metrics\n",
    "print(\"The accuracy of Naive Bayes is : \" ,metrics.accuracy_score(y_pred , y_test)*100,'%')\n",
    "names.append('GaussianNB')\n",
    "scores.append(metrics.accuracy_score(y_pred , y_test)*100)"
   ]
  },
  {
   "cell_type": "code",
   "execution_count": 11,
   "metadata": {},
   "outputs": [
    {
     "name": "stdout",
     "output_type": "stream",
     "text": [
      "The accuracy of Logistic Regression is :  88.70967741935483 %\n"
     ]
    }
   ],
   "source": [
    "from sklearn.linear_model import LogisticRegression\n",
    "LR = LogisticRegression()\n",
    "LR.fit(X_train, y_train)\n",
    "y_pred = LR.predict(X_test)\n",
    "from sklearn import metrics\n",
    "print(\"The accuracy of Logistic Regression is : \" ,metrics.accuracy_score(y_pred , y_test)*100,'%')\n",
    "names.append('LogisticRegression')\n",
    "scores.append(metrics.accuracy_score(y_pred , y_test)*100)"
   ]
  },
  {
   "cell_type": "code",
   "execution_count": 12,
   "metadata": {},
   "outputs": [
    {
     "name": "stdout",
     "output_type": "stream",
     "text": [
      "The accuracy of Decision Tree Classifier is :  79.03225806451613 %\n"
     ]
    }
   ],
   "source": [
    "from sklearn.tree import DecisionTreeClassifier\n",
    "DTC = DecisionTreeClassifier()\n",
    "DTC.fit(X_train, y_train)\n",
    "y_pred = DTC.predict(X_test)\n",
    "from sklearn import metrics\n",
    "print(\"The accuracy of Decision Tree Classifier is : \" ,metrics.accuracy_score(y_pred , y_test)*100,'%')\n",
    "names.append('DecisionTreeClassifier')\n",
    "scores.append(metrics.accuracy_score(y_pred , y_test)*100)"
   ]
  },
  {
   "cell_type": "code",
   "execution_count": 13,
   "metadata": {},
   "outputs": [
    {
     "name": "stdout",
     "output_type": "stream",
     "text": [
      "The accuracy of K Nearest Neighbors is :  80.64516129032258 %\n"
     ]
    }
   ],
   "source": [
    "from sklearn.neighbors import KNeighborsClassifier\n",
    "KNN = KNeighborsClassifier()\n",
    "KNN.fit(X_train , y_train)\n",
    "y_pred = KNN.predict(X_test)\n",
    "from sklearn import metrics\n",
    "print(\"The accuracy of K Nearest Neighbors is : \" ,metrics.accuracy_score(y_pred , y_test)*100,'%')\n",
    "names.append('KNeighborsClassifier')\n",
    "scores.append(metrics.accuracy_score(y_pred , y_test)*100)"
   ]
  },
  {
   "cell_type": "code",
   "execution_count": 14,
   "metadata": {},
   "outputs": [
    {
     "name": "stdout",
     "output_type": "stream",
     "text": [
      "The accuracy of K GradientBoostingClassifier is :  80.64516129032258 %\n"
     ]
    }
   ],
   "source": [
    "from sklearn.ensemble import GradientBoostingClassifier\n",
    "gbc = GradientBoostingClassifier()\n",
    "gbc.fit(X_train , y_train)\n",
    "y_pred = gbc.predict(X_test)\n",
    "from sklearn import metrics\n",
    "print(\"The accuracy of K GradientBoostingClassifier is : \" ,metrics.accuracy_score(y_pred , y_test)*100,'%')\n",
    "names.append('GradientBoostingClassifier')\n",
    "scores.append(metrics.accuracy_score(y_pred , y_test)*100)"
   ]
  },
  {
   "cell_type": "code",
   "execution_count": 15,
   "metadata": {},
   "outputs": [
    {
     "name": "stdout",
     "output_type": "stream",
     "text": [
      "['RandomForestClassifier', 'GaussianNB', 'LogisticRegression', 'DecisionTreeClassifier', 'KNeighborsClassifier', 'GradientBoostingClassifier']\n",
      "[79.03225806451613, 85.48387096774194, 88.70967741935483, 79.03225806451613, 80.64516129032258, 80.64516129032258]\n"
     ]
    }
   ],
   "source": [
    "print(names)\n",
    "print(scores)"
   ]
  },
  {
   "cell_type": "code",
   "execution_count": 16,
   "metadata": {},
   "outputs": [
    {
     "data": {
      "text/html": [
       "<div>\n",
       "<style scoped>\n",
       "    .dataframe tbody tr th:only-of-type {\n",
       "        vertical-align: middle;\n",
       "    }\n",
       "\n",
       "    .dataframe tbody tr th {\n",
       "        vertical-align: top;\n",
       "    }\n",
       "\n",
       "    .dataframe thead th {\n",
       "        text-align: right;\n",
       "    }\n",
       "</style>\n",
       "<table border=\"1\" class=\"dataframe\">\n",
       "  <thead>\n",
       "    <tr style=\"text-align: right;\">\n",
       "      <th></th>\n",
       "      <th>Name</th>\n",
       "      <th>Score</th>\n",
       "    </tr>\n",
       "  </thead>\n",
       "  <tbody>\n",
       "    <tr>\n",
       "      <th>0</th>\n",
       "      <td>RandomForestClassifier</td>\n",
       "      <td>79.032258</td>\n",
       "    </tr>\n",
       "    <tr>\n",
       "      <th>1</th>\n",
       "      <td>GaussianNB</td>\n",
       "      <td>85.483871</td>\n",
       "    </tr>\n",
       "    <tr>\n",
       "      <th>2</th>\n",
       "      <td>LogisticRegression</td>\n",
       "      <td>88.709677</td>\n",
       "    </tr>\n",
       "    <tr>\n",
       "      <th>3</th>\n",
       "      <td>DecisionTreeClassifier</td>\n",
       "      <td>79.032258</td>\n",
       "    </tr>\n",
       "    <tr>\n",
       "      <th>4</th>\n",
       "      <td>KNeighborsClassifier</td>\n",
       "      <td>80.645161</td>\n",
       "    </tr>\n",
       "    <tr>\n",
       "      <th>5</th>\n",
       "      <td>GradientBoostingClassifier</td>\n",
       "      <td>80.645161</td>\n",
       "    </tr>\n",
       "  </tbody>\n",
       "</table>\n",
       "</div>"
      ],
      "text/plain": [
       "                         Name      Score\n",
       "0      RandomForestClassifier  79.032258\n",
       "1                  GaussianNB  85.483871\n",
       "2          LogisticRegression  88.709677\n",
       "3      DecisionTreeClassifier  79.032258\n",
       "4        KNeighborsClassifier  80.645161\n",
       "5  GradientBoostingClassifier  80.645161"
      ]
     },
     "execution_count": 16,
     "metadata": {},
     "output_type": "execute_result"
    }
   ],
   "source": [
    "dt=pd.DataFrame()\n",
    "dt['Name']=names\n",
    "dt['Score']=scores\n",
    "dt"
   ]
  },
  {
   "cell_type": "code",
   "execution_count": 17,
   "metadata": {},
   "outputs": [
    {
     "data": {
      "text/html": [
       "<style  type=\"text/css\" >\n",
       "#T_c23e4c9e_22ca_11ec_b114_6cf049623ff2row0_col1,#T_c23e4c9e_22ca_11ec_b114_6cf049623ff2row3_col1{\n",
       "            background-color:  #ebf3eb;\n",
       "            color:  #000000;\n",
       "        }#T_c23e4c9e_22ca_11ec_b114_6cf049623ff2row1_col1{\n",
       "            background-color:  #4ea64e;\n",
       "            color:  #000000;\n",
       "        }#T_c23e4c9e_22ca_11ec_b114_6cf049623ff2row2_col1{\n",
       "            background-color:  #008000;\n",
       "            color:  #f1f1f1;\n",
       "        }#T_c23e4c9e_22ca_11ec_b114_6cf049623ff2row4_col1,#T_c23e4c9e_22ca_11ec_b114_6cf049623ff2row5_col1{\n",
       "            background-color:  #c4e0c4;\n",
       "            color:  #000000;\n",
       "        }</style><table id=\"T_c23e4c9e_22ca_11ec_b114_6cf049623ff2\" ><thead>    <tr>        <th class=\"blank level0\" ></th>        <th class=\"col_heading level0 col0\" >Name</th>        <th class=\"col_heading level0 col1\" >Score</th>    </tr></thead><tbody>\n",
       "                <tr>\n",
       "                        <th id=\"T_c23e4c9e_22ca_11ec_b114_6cf049623ff2level0_row0\" class=\"row_heading level0 row0\" >0</th>\n",
       "                        <td id=\"T_c23e4c9e_22ca_11ec_b114_6cf049623ff2row0_col0\" class=\"data row0 col0\" >RandomForestClassifier</td>\n",
       "                        <td id=\"T_c23e4c9e_22ca_11ec_b114_6cf049623ff2row0_col1\" class=\"data row0 col1\" >79.032258</td>\n",
       "            </tr>\n",
       "            <tr>\n",
       "                        <th id=\"T_c23e4c9e_22ca_11ec_b114_6cf049623ff2level0_row1\" class=\"row_heading level0 row1\" >1</th>\n",
       "                        <td id=\"T_c23e4c9e_22ca_11ec_b114_6cf049623ff2row1_col0\" class=\"data row1 col0\" >GaussianNB</td>\n",
       "                        <td id=\"T_c23e4c9e_22ca_11ec_b114_6cf049623ff2row1_col1\" class=\"data row1 col1\" >85.483871</td>\n",
       "            </tr>\n",
       "            <tr>\n",
       "                        <th id=\"T_c23e4c9e_22ca_11ec_b114_6cf049623ff2level0_row2\" class=\"row_heading level0 row2\" >2</th>\n",
       "                        <td id=\"T_c23e4c9e_22ca_11ec_b114_6cf049623ff2row2_col0\" class=\"data row2 col0\" >LogisticRegression</td>\n",
       "                        <td id=\"T_c23e4c9e_22ca_11ec_b114_6cf049623ff2row2_col1\" class=\"data row2 col1\" >88.709677</td>\n",
       "            </tr>\n",
       "            <tr>\n",
       "                        <th id=\"T_c23e4c9e_22ca_11ec_b114_6cf049623ff2level0_row3\" class=\"row_heading level0 row3\" >3</th>\n",
       "                        <td id=\"T_c23e4c9e_22ca_11ec_b114_6cf049623ff2row3_col0\" class=\"data row3 col0\" >DecisionTreeClassifier</td>\n",
       "                        <td id=\"T_c23e4c9e_22ca_11ec_b114_6cf049623ff2row3_col1\" class=\"data row3 col1\" >79.032258</td>\n",
       "            </tr>\n",
       "            <tr>\n",
       "                        <th id=\"T_c23e4c9e_22ca_11ec_b114_6cf049623ff2level0_row4\" class=\"row_heading level0 row4\" >4</th>\n",
       "                        <td id=\"T_c23e4c9e_22ca_11ec_b114_6cf049623ff2row4_col0\" class=\"data row4 col0\" >KNeighborsClassifier</td>\n",
       "                        <td id=\"T_c23e4c9e_22ca_11ec_b114_6cf049623ff2row4_col1\" class=\"data row4 col1\" >80.645161</td>\n",
       "            </tr>\n",
       "            <tr>\n",
       "                        <th id=\"T_c23e4c9e_22ca_11ec_b114_6cf049623ff2level0_row5\" class=\"row_heading level0 row5\" >5</th>\n",
       "                        <td id=\"T_c23e4c9e_22ca_11ec_b114_6cf049623ff2row5_col0\" class=\"data row5 col0\" >GradientBoostingClassifier</td>\n",
       "                        <td id=\"T_c23e4c9e_22ca_11ec_b114_6cf049623ff2row5_col1\" class=\"data row5 col1\" >80.645161</td>\n",
       "            </tr>\n",
       "    </tbody></table>"
      ],
      "text/plain": [
       "<pandas.io.formats.style.Styler at 0x96709a0>"
      ]
     },
     "execution_count": 17,
     "metadata": {},
     "output_type": "execute_result"
    }
   ],
   "source": [
    "cm = sns.light_palette(\"green\", as_cmap=True)\n",
    "s = dt.style.background_gradient(cmap=cm)\n",
    "s"
   ]
  },
  {
   "cell_type": "code",
   "execution_count": 18,
   "metadata": {},
   "outputs": [
    {
     "data": {
      "image/png": "[encoded data removed]",
      "text/plain": [
       "<Figure size 432x288 with 1 Axes>"
      ]
     },
     "metadata": {},
     "output_type": "display_data"
    }
   ],
   "source": [
    "sns.set(style=\"whitegrid\")\n",
    "ax = sns.barplot(y=\"Name\", x=\"Score\", data=dt)"
   ]
  },
  {
   "cell_type": "code",
   "execution_count": 19,
   "metadata": {},
   "outputs": [],
   "source": [
    "from sklearn.datasets import make_classification\n",
    "X, y = make_classification(n_samples=2000, n_classes=2, n_features=10, random_state=0)"
   ]
  },
  {
   "cell_type": "code",
   "execution_count": 20,
   "metadata": {},
   "outputs": [],
   "source": [
    "r_probs = [0 for _ in range(len(y_test))]\n",
    "RF_probs = RF.predict_proba(X_test)\n",
    "NB_probs = NB.predict_proba(X_test)\n",
    "LR_probs = LR.predict_proba(X_test)\n",
    "DTC_probs = DTC.predict_proba(X_test)\n",
    "KNN_probs = KNN.predict_proba(X_test)\n",
    "gbc_probs = gbc.predict_proba(X_test)"
   ]
  },
  {
   "cell_type": "code",
   "execution_count": 21,
   "metadata": {},
   "outputs": [],
   "source": [
    "RF_probs = RF_probs[:, 1]\n",
    "NB_probs = NB_probs[:, 1]\n",
    "LR_probs = LR_probs[:, 1]\n",
    "DTC_probs = DTC_probs[:, 1]\n",
    "KNN_probs = KNN_probs[:, 1]\n",
    "gbc_probs = gbc_probs[:, 1]"
   ]
  },
  {
   "cell_type": "code",
   "execution_count": 22,
   "metadata": {},
   "outputs": [],
   "source": [
    "from sklearn.metrics import roc_curve, roc_auc_score\n",
    "r_auc = roc_auc_score(y_test, r_probs)\n",
    "RF_auc = roc_auc_score(y_test, RF_probs)\n",
    "NB_auc = roc_auc_score(y_test, NB_probs)\n",
    "LR_auc = roc_auc_score(y_test, LR_probs)\n",
    "DTC_auc = roc_auc_score(y_test, DTC_probs)\n",
    "KNN_auc = roc_auc_score(y_test, KNN_probs)\n",
    "gbc_auc = roc_auc_score(y_test, gbc_probs)"
   ]
  },
  {
   "cell_type": "code",
   "execution_count": 23,
   "metadata": {},
   "outputs": [
    {
     "name": "stdout",
     "output_type": "stream",
     "text": [
      "Random (chance) Prediction: AUROC = 0.500\n",
      "Random Forest: AUROC = 0.716\n",
      "Naive Bayes: AUROC = 0.760\n",
      "Logistic Regression : AUROC = 0.772\n",
      "Decision Tree : AUROC = 0.748\n",
      "KNeighborsClassifier : AUROC = 0.720\n",
      "GradientBoosting :AUROC = 0.749\n"
     ]
    }
   ],
   "source": [
    "print('Random (chance) Prediction: AUROC = %.3f' % (r_auc))\n",
    "print('Random Forest: AUROC = %.3f' % (RF_auc))\n",
    "print('Naive Bayes: AUROC = %.3f' % (NB_auc))\n",
    "print('Logistic Regression : AUROC = %.3f' % (LR_auc))\n",
    "print('Decision Tree : AUROC = %.3f' % (DTC_auc))\n",
    "print('KNeighborsClassifier : AUROC = %.3f' % (KNN_auc))\n",
    "print('GradientBoosting :AUROC = %.3f' % (gbc_auc))"
   ]
  },
  {
   "cell_type": "code",
   "execution_count": 24,
   "metadata": {},
   "outputs": [],
   "source": [
    "r_fpr, r_tpr, _ = roc_curve(y_test, r_probs)\n",
    "RF_fpr, RF_tpr, _ = roc_curve(y_test, RF_probs)\n",
    "NB_fpr, NB_tpr, _ = roc_curve(y_test, NB_probs)\n",
    "LR_fpr, LR_tpr, _ = roc_curve(y_test, LR_probs)\n",
    "DTC_fpr, DTC_tpr, _ = roc_curve(y_test, DTC_probs)\n",
    "KNN_fpr, KNN_tpr, _ = roc_curve(y_test, KNN_probs)\n",
    "gbc_fpr, gbc_tpr, _ = roc_curve(y_test, gbc_probs)"
   ]
  },
  {
   "cell_type": "code",
   "execution_count": 25,
   "metadata": {},
   "outputs": [],
   "source": [
    "import matplotlib.pyplot as plt"
   ]
  },
  {
   "cell_type": "code",
   "execution_count": 26,
   "metadata": {},
   "outputs": [
    {
     "data": {
      "image/png": "[encoded data removed]",
      "text/plain": [
       "<Figure size 432x288 with 1 Axes>"
      ]
     },
     "metadata": {},
     "output_type": "display_data"
    }
   ],
   "source": [
    "plt.plot(r_fpr, r_tpr, linestyle='--', label='RP (AUROC = %0.3f)' % r_auc)\n",
    "plt.plot(RF_fpr, RF_tpr, marker='.', label='RF (AUROC = %0.3f)' % RF_auc)\n",
    "plt.plot(NB_fpr, NB_tpr, marker='.', label='NB (AUROC = %0.3f)' % NB_auc)\n",
    "plt.plot(LR_fpr, LR_tpr, marker='.', label='LR (AUROC = %0.3f)' % LR_auc)\n",
    "plt.plot(DTC_fpr, DTC_tpr, marker='.', label='DTC (AUROC = %0.3f)' % DTC_auc)\n",
    "plt.plot(KNN_fpr, KNN_tpr, marker='.', label='KNN  (AUROC = %0.3f)' % KNN_auc)\n",
    "plt.plot(gbc_fpr, gbc_tpr, marker='.', label='GBC (AUROC = %0.3f)' % gbc_auc)\n",
    "\n",
    "# Title\n",
    "plt.title('ROC Plot')\n",
    "# Axis labels\n",
    "plt.xlabel('False Positive Rate')\n",
    "plt.ylabel('True Positive Rate')\n",
    "# Show legend\n",
    "plt.legend() # \n",
    "# Show plot\n",
    "plt.show()"
   ]
  },
  {
   "cell_type": "code",
   "execution_count": 28,
   "metadata": {},
   "outputs": [],
   "source": []
  },
  {
   "cell_type": "code",
   "execution_count": null,
   "metadata": {},
   "outputs": [],
   "source": []
  }
 ],
 "metadata": {
  "kernelspec": {
   "display_name": "Python 3",
   "language": "python",
   "name": "python3"
  },
  "language_info": {
   "codemirror_mode": {
    "name": "ipython",
    "version": 3
   },
   "file_extension": ".py",
   "mimetype": "text/x-python",
   "name": "python",
   "nbconvert_exporter": "python",
   "pygments_lexer": "ipython3",
   "version": "3.8.5"
  }
 },
 "nbformat": 4,
 "nbformat_minor": 4
}
